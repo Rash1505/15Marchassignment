{
 "cells": [
  {
   "cell_type": "markdown",
   "id": "c79e199b-878c-4983-a408-3902fbfff030",
   "metadata": {},
   "source": [
    "Q1. Explain the following with an example\n",
    "\n",
    "**1.Artifical intelligence**:It refers to the simulation of human intelligence in machines, allowing them to perform tasks that typically require human intelligence and it can perform its own task without any human interference.\n",
    "\n",
    "Example: Virtual Personal Assistants\n",
    "One common application of AI is virtual personal assistants, which are software programs designed to assist users with tasks and provide information using natural language interactions. A well-known example of this is Apple's Siri.\n",
    "\n",
    "**2.Machine learning**:Machine Learning is a subset of Artificial Intelligence that focuses on the development of algorithms and models that allow computers to learn from and make predictions or decisions based on data.\n",
    "\n",
    "Example: Email Spam Detection\n",
    "\n",
    "**3.Deep learning**:Deep Learning is a subset of Machine Learning that focuses on using neural networks with multiple layers to automatically learn patterns and features from data.\n",
    "\n",
    "Example: Image Classification with Convolutional Neural Networks\n"
   ]
  },
  {
   "cell_type": "markdown",
   "id": "83c9ebbf-c07b-4499-a361-59d984b7fc2e",
   "metadata": {},
   "source": [
    "Q2. What is supervised learning? List some examples of supervised learning.\n",
    "\n",
    "\n",
    "**Supervised learning**:It is a type of Machine learning which involves training a model to make prediction or classification on labled training data.\n",
    "\n",
    "Examples: 1. Image Classification: a dataset of images labled with their corresponding categories\n",
    "\n",
    "2.Samp Email Detaction: A supervised learning model can be trained on a dataset of emails labeled as \"spam\" or \"not spam.\" \n",
    "\n",
    "3.Medical Diagnosis: Using a dataset of medical records with diagnosed conditions, a supervised learning algorithm can be trained to diagnose diseases or conditions based on patient symptoms and other relevant information.\n",
    "\n",
    "4.Language Translation: In machine translation, a supervised learning model can be trained on pairs of sentences in different languages."
   ]
  },
  {
   "cell_type": "markdown",
   "id": "a653f71f-8c5b-41de-b2f7-5816702029ac",
   "metadata": {},
   "source": [
    "Q3. What is unsupervised learning? List some examples of unsupervised learning.\n",
    "\n",
    "**Unsuperivised learning**:Unsupervised learning is a type of machine learning where the algorithm is not provided with labeled examples, and its goal is to find patterns or structure within the data on its own. \n",
    "\n",
    "Examples: 1. Clustering and 2. Dimensionality Reduction\n"
   ]
  },
  {
   "cell_type": "markdown",
   "id": "c0ccdc39-5973-4a59-a6e6-fee17398a205",
   "metadata": {},
   "source": [
    "Q4. what is the difference between AI, ML, DL and DS?\n",
    "\n",
    "AI is the concept of creating intelligent machines.\n",
    "ML is a subset of AI that involves using algorithms to enable machines to learn from data.\n",
    "DL is a subset of ML that focuses on neural networks with multiple layers, suited for complex tasks like image and speech recognition.\n",
    "DS is an interdisciplinary field that involves various techniques to extract insights from data, including aspects of statistics, programming, and domain expertise.\n"
   ]
  },
  {
   "cell_type": "markdown",
   "id": "449db8b1-b724-49d8-adb3-e5509c3379aa",
   "metadata": {},
   "source": [
    "Q5. What are the main difference between supervised, unsupervised and semi-supervised learning?\n",
    "\n",
    ": These are the types of Machine learning \n",
    "**Supervised learning**: In supervised learning, lable dataset used for training where the input data is paired with corresponding target lables. The goal is to learn mapping from inputs to outputs.\n",
    "\n",
    "**Unsupervised learning**:unsupervised learning, involves training on unlable dataset where the goal is to find inherent patterns, structures, or relationships within the data.\n",
    "\n",
    "**Semi-supervised learning**: It is the combination of supervised and unsupervised learning. It contains both lable and unlable data."
   ]
  },
  {
   "cell_type": "markdown",
   "id": "b6dd8291-57ac-4bac-b348-10bcd2d94b47",
   "metadata": {},
   "source": [
    "Q6. What is train, test and validation split? Explain the importance of each term.\n",
    "\n",
    "**Training Split**\n",
    "The training is the largest portion of dataset and is used to train the model's parameters. When we train a machine learning model, it learns patterns, features, and relationships within the data. The model's goal is to generalize from the training data so that it can make accurate predictions on new, unseen data. The training process involves iteratively adjusting the model's parameters based on the training data and the chosen optimization algorithm.\n",
    "\n",
    "**Validation split**\n",
    "The validation split helps us to avoid overfitting (when the model performs well on the training data but poorly on new data) by providing a measure of how well the model is generalizing to unseen data. You adjust your model's hyperparameters based on its performance on the validation set.\n",
    "\n",
    "\n",
    "**Test Split**\n",
    "The test split is a completely independent subset of the data that is not used during the training or validation processes. It serves as a final evaluation of our model's performance. Once we've selected model and fine-tuned its hyperparameters using the validation set,we evaluate the model's performance on the test set. The test set provides an unbiased estimate of how well our model will perform on new, real-world data that it hasn't seen before. It helps us to assess whether our model has learned to generalize from the training data in a meaningful way."
   ]
  },
  {
   "cell_type": "markdown",
   "id": "93a27dc9-ec11-4a8c-a9b7-356f429f23eb",
   "metadata": {},
   "source": [
    "Q7. How can unsupervised learning be used in anomaly detection?\n",
    "\n",
    "Unsupervised learning is commonly used in anomaly detection because it's often challenging to obtain labeled data for anomalies, as anomalies are rare and unexpected events. Unsupervised learning doesn't require labeled data, making it suitable for anomaly detection tasks where we're trying to identify patterns that deviate from the norm."
   ]
  },
  {
   "cell_type": "markdown",
   "id": "44b686da-10df-4aeb-aa3a-d214ca01b402",
   "metadata": {},
   "source": [
    "Q8. List down some commonly used supervised and unsupervised learning algorithms.\n",
    "\n",
    "**Supervised learning algorithms**: \n",
    "- Linear regresssion\n",
    "- Logistic regression\n",
    "- Decision Tree\n",
    "- Random forest\n",
    "- super vector machines\n",
    "- Neural Networks\n",
    "\n",
    "**Unsupevised learning**:\n",
    "- Clustering algorithm\n",
    "- Dimensionality reduction\n",
    "- Anomaly detection"
   ]
  },
  {
   "cell_type": "code",
   "execution_count": null,
   "id": "731ce8b0-ebec-4d5c-ba52-aca8a05fc2f7",
   "metadata": {},
   "outputs": [],
   "source": []
  }
 ],
 "metadata": {
  "kernelspec": {
   "display_name": "Python 3 (ipykernel)",
   "language": "python",
   "name": "python3"
  },
  "language_info": {
   "codemirror_mode": {
    "name": "ipython",
    "version": 3
   },
   "file_extension": ".py",
   "mimetype": "text/x-python",
   "name": "python",
   "nbconvert_exporter": "python",
   "pygments_lexer": "ipython3",
   "version": "3.10.8"
  }
 },
 "nbformat": 4,
 "nbformat_minor": 5
}
